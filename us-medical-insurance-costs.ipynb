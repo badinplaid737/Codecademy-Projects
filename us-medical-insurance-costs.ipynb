{
 "cells": [
  {
   "cell_type": "markdown",
   "metadata": {},
   "source": [
    "# U.S. Medical Insurance Costs"
   ]
  },
  {
   "cell_type": "code",
   "execution_count": 36,
   "metadata": {},
   "outputs": [],
   "source": [
    "import csv\n",
    "import numpy as np\n",
    "import pandas as pd\n"
   ]
  },
  {
   "cell_type": "markdown",
   "metadata": {},
   "source": [
    "# Importing the data\n",
    "\n",
    "Using pandas to read the .csv file and create a dataframe to work with "
   ]
  },
  {
   "cell_type": "code",
   "execution_count": 37,
   "metadata": {},
   "outputs": [],
   "source": [
    "ins_data = pd.read_csv('insurance.csv')"
   ]
  },
  {
   "cell_type": "markdown",
   "metadata": {},
   "source": [
    "# Separating the Data by region\n",
    "\n",
    "Taking the master DataFrame and creating 4 new Data Frames organized by region \n"
   ]
  },
  {
   "cell_type": "code",
   "execution_count": 38,
   "metadata": {},
   "outputs": [
    {
     "name": "stdout",
     "output_type": "stream",
     "text": [
      "Percentage from Southeast: 27.2%\n",
      "Percentage from Northeast: 24.22%\n",
      "Percentage from Northwest: 24.29%\n",
      "Percentage from Southwest: 24.29%\n"
     ]
    }
   ],
   "source": [
    "se_data=ins_data[ins_data['region']=='southeast']\n",
    "ne_data=ins_data[ins_data['region']=='northeast']\n",
    "nw_data=ins_data[ins_data['region']=='northwest']\n",
    "sw_data=ins_data[ins_data['region']=='southwest']\n",
    "\n",
    "se_percentage=len(se_data)/len(ins_data)*100\n",
    "ne_percentage=len(ne_data)/len(ins_data)*100\n",
    "nw_percentage=len(nw_data)/len(ins_data)*100\n",
    "sw_percentage=len(sw_data)/len(ins_data)*100\n",
    "print(\"Percentage from Southeast: \" +str(round(se_percentage, 2))+\"%\")\n",
    "print(\"Percentage from Northeast: \" +str(round(ne_percentage, 2))+\"%\")\n",
    "print(\"Percentage from Northwest: \" +str(round(nw_percentage, 2))+\"%\")\n",
    "print(\"Percentage from Southwest: \" +str(round(sw_percentage, 2))+\"%\")"
   ]
  },
  {
   "cell_type": "markdown",
   "metadata": {},
   "source": [
    "Data looks to have pretty good distribution among the 4 regions that the \n"
   ]
  },
  {
   "cell_type": "markdown",
   "metadata": {},
   "source": [
    "# Average Insurance Costs by Region\n",
    "\n",
    "Here we will use Pandas to calculate the average of the column \"Costs\" for each reagion to see who had the highest and lowest costs. "
   ]
  },
  {
   "cell_type": "code",
   "execution_count": 39,
   "metadata": {},
   "outputs": [
    {
     "name": "stdout",
     "output_type": "stream",
     "text": [
      "The Average Inusrance Cost for the Southeast is: $14735.41\n",
      "The Average Inusrance Cost for the Northeast is: $13406.38\n",
      "The Average Inusrance Cost for the Northwest is: $12417.58\n",
      "The Average Inusrance Cost for the Southwest is: $12346.94\n"
     ]
    }
   ],
   "source": [
    "se_mean_cost=se_data['charges'].mean()\n",
    "ne_mean_cost=ne_data['charges'].mean()\n",
    "nw_mean_cost=nw_data['charges'].mean()\n",
    "sw_mean_cost=sw_data['charges'].mean()\n",
    "\n",
    "print(\"The Average Inusrance Cost for the Southeast is: $\"+str(round(se_mean_cost, 2)))\n",
    "print(\"The Average Inusrance Cost for the Northeast is: $\"+str(round(ne_mean_cost, 2)))\n",
    "print(\"The Average Inusrance Cost for the Northwest is: $\"+str(round(nw_mean_cost, 2)))\n",
    "print(\"The Average Inusrance Cost for the Southwest is: $\"+str(round(sw_mean_cost, 2)))"
   ]
  },
  {
   "cell_type": "markdown",
   "metadata": {},
   "source": [
    "In our data set the respondants from the Southeast had the highest average insurance costs.  \n",
    "Now let us see what may be driving that cost by looking at 2 of the variables, BMI and Smoking"
   ]
  },
  {
   "cell_type": "markdown",
   "metadata": {},
   "source": [
    "# Percentage of Overweight\n",
    "\n",
    "According to the CDC A BMI of 25 or over is considered overweight In this next code block we will find out how many overweight people are in each region and see if that is a driver for the higher costs in the Southeast\n"
   ]
  },
  {
   "cell_type": "code",
   "execution_count": 40,
   "metadata": {},
   "outputs": [
    {
     "name": "stdout",
     "output_type": "stream",
     "text": [
      "The Percentage of overweight in Southeast: 88.74%\n",
      "The Percentage of overweight in Northeast: 74.38%\n",
      "The Percentage of overweight in Northwest: 78.46%\n",
      "The Percentage of overweight in Southwest: 84.31%\n"
     ]
    }
   ],
   "source": [
    "se_ow=se_data[se_data['bmi']>=25.0]\n",
    "ne_ow=ne_data[ne_data['bmi']>=25.0]\n",
    "nw_ow=nw_data[nw_data['bmi']>=25.0]\n",
    "sw_ow=sw_data[sw_data['bmi']>=25.0]\n",
    "\n",
    "se_ow_percent=len(se_ow)/len(se_data)*100\n",
    "ne_ow_percent=len(ne_ow)/len(ne_data)*100\n",
    "nw_ow_percent=len(nw_ow)/len(nw_data)*100\n",
    "sw_ow_percent=len(sw_ow)/len(sw_data)*100\n",
    "print(\"The Percentage of overweight in Southeast: \" +str(round(se_ow_percent,2))+\"%\")\n",
    "print(\"The Percentage of overweight in Northeast: \" +str(round(ne_ow_percent,2))+\"%\")\n",
    "print(\"The Percentage of overweight in Northwest: \" +str(round(nw_ow_percent,2))+\"%\")\n",
    "print(\"The Percentage of overweight in Southwest: \" +str(round(sw_ow_percent,2))+\"%\")"
   ]
  },
  {
   "cell_type": "markdown",
   "metadata": {},
   "source": [
    "The southwest clearly had a higher percentage that was overweght but the Southwest which had the lowest average insurance cost came in with the 2nd highest percentage overweight. \n",
    "\n",
    "When BMI is over 30 then a person is considere obese.  Let us examine the data when we increase the threshold to 30 and see if that tells us anything. "
   ]
  },
  {
   "cell_type": "code",
   "execution_count": 41,
   "metadata": {},
   "outputs": [
    {
     "name": "stdout",
     "output_type": "stream",
     "text": [
      "The Percentage of obese in Southeast: 66.76%\n",
      "The Percentage of obese in Northeast: 44.14%\n",
      "The Percentage of obese in Northwest: 45.54%\n",
      "The Percentage of obese in Southwest: 53.23%\n"
     ]
    }
   ],
   "source": [
    "se_ob=se_data[se_data['bmi']>=30.0]\n",
    "ne_ob=ne_data[ne_data['bmi']>=30.0]\n",
    "nw_ob=nw_data[nw_data['bmi']>=30.0]\n",
    "sw_ob=sw_data[sw_data['bmi']>=30.0]\n",
    "\n",
    "se_ob_percent=len(se_ob)/len(se_data)*100\n",
    "ne_ob_percent=len(ne_ob)/len(ne_data)*100\n",
    "nw_ob_percent=len(nw_ob)/len(nw_data)*100\n",
    "sw_ob_percent=len(sw_ob)/len(sw_data)*100\n",
    "\n",
    "\n",
    "print(\"The Percentage of obese in Southeast: \" +str(round(se_ob_percent,2))+\"%\")\n",
    "print(\"The Percentage of obese in Northeast: \" +str(round(ne_ob_percent,2))+\"%\")\n",
    "print(\"The Percentage of obese in Northwest: \" +str(round(nw_ob_percent,2))+\"%\")\n",
    "print(\"The Percentage of obese in Southwest: \" +str(round(sw_ob_percent,2))+\"%\")\n",
    "\n"
   ]
  },
  {
   "cell_type": "markdown",
   "metadata": {},
   "source": [
    "And after we change the prarameter from overweight to obese we do see the same trend with Southwest still behind the Southeast but by a narrower margin.  Next let us see if there average BMI is any correlary"
   ]
  },
  {
   "cell_type": "code",
   "execution_count": 42,
   "metadata": {},
   "outputs": [
    {
     "name": "stdout",
     "output_type": "stream",
     "text": [
      "The Average BMI for the Southeast is: 33.36\n",
      "The Average BMI for the Northeast is: 29.17\n",
      "The Average BMI for the Northwest is: 29.2\n",
      "The Average BMI for the Southwest is: 30.6\n"
     ]
    }
   ],
   "source": [
    "se_mean_bmi=se_data['bmi'].mean()\n",
    "ne_mean_bmi=ne_data['bmi'].mean()\n",
    "nw_mean_bmi=nw_data['bmi'].mean()\n",
    "sw_mean_bmi=sw_data['bmi'].mean()\n",
    "\n",
    "print(\"The Average BMI for the Southeast is: \"+str(round(se_mean_bmi,2)))\n",
    "print(\"The Average BMI for the Northeast is: \"+str(round(ne_mean_bmi, 2)))\n",
    "print(\"The Average BMI for the Northwest is: \"+str(round(nw_mean_bmi,2)))\n",
    "print(\"The Average BMI for the Southwest is: \"+str(round(sw_mean_bmi, 2)))"
   ]
  },
  {
   "cell_type": "markdown",
   "metadata": {},
   "source": [
    "Once again the regions that reported highest percentatage of Overweight and Obese would have the highest average BMI"
   ]
  },
  {
   "cell_type": "markdown",
   "metadata": {},
   "source": [
    "# Percentage of Smokers\n",
    "\n",
    "The next variable we will examine is the percentage of respondants from each region who identified as smokers and see if there is any correlation "
   ]
  },
  {
   "cell_type": "code",
   "execution_count": 43,
   "metadata": {},
   "outputs": [
    {
     "name": "stdout",
     "output_type": "stream",
     "text": [
      "The Percentage of smokers in Southeast: 25.0%\n",
      "The Percentage of smokers in Northeast: 20.68%\n",
      "The Percentage of smokers in Northwest: 17.85%\n",
      "The Percentage of smokers in Southwest: 17.85%\n"
     ]
    }
   ],
   "source": [
    "se_smoker=se_data[se_data['smoker']=='yes']\n",
    "ne_smoker=ne_data[ne_data['smoker']=='yes']\n",
    "nw_smoker=nw_data[nw_data['smoker']=='yes']\n",
    "sw_smoker=sw_data[sw_data['smoker']=='yes']\n",
    "\n",
    "se_smoke_percent=len(se_smoker)/len(se_data)*100\n",
    "ne_smoke_percent=len(ne_smoker)/len(ne_data)*100\n",
    "nw_smoke_percent=len(nw_smoker)/len(nw_data)*100\n",
    "sw_smoke_percent=len(sw_smoker)/len(sw_data)*100\n",
    "\n",
    "print(\"The Percentage of smokers in Southeast: \" +str(round(se_smoke_percent,2))+\"%\")\n",
    "print(\"The Percentage of smokers in Northeast: \" +str(round(ne_smoke_percent,2))+\"%\")\n",
    "print(\"The Percentage of smokers in Northwest: \" +str(round(nw_smoke_percent,2))+\"%\")\n",
    "print(\"The Percentage of smokers in Southwest: \" +str(round(sw_smoke_percent,2))+\"%\")"
   ]
  },
  {
   "cell_type": "markdown",
   "metadata": {},
   "source": [
    "With this analysis we see the top 2 regions for smokers the same as the top 2 for Insurance Costs. "
   ]
  },
  {
   "cell_type": "code",
   "execution_count": null,
   "metadata": {},
   "outputs": [],
   "source": []
  },
  {
   "cell_type": "code",
   "execution_count": null,
   "metadata": {},
   "outputs": [],
   "source": []
  }
 ],
 "metadata": {
  "kernelspec": {
   "display_name": "Python 3 (ipykernel)",
   "language": "python",
   "name": "python3"
  },
  "language_info": {
   "codemirror_mode": {
    "name": "ipython",
    "version": 3
   },
   "file_extension": ".py",
   "mimetype": "text/x-python",
   "name": "python",
   "nbconvert_exporter": "python",
   "pygments_lexer": "ipython3",
   "version": "3.8.8"
  }
 },
 "nbformat": 4,
 "nbformat_minor": 4
}
